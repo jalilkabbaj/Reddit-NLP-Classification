{
 "cells": [
  {
   "cell_type": "code",
   "execution_count": 1,
   "id": "bee46847",
   "metadata": {},
   "outputs": [],
   "source": [
    "# Imports"
   ]
  },
  {
   "cell_type": "code",
   "execution_count": 2,
   "id": "21a9f80a",
   "metadata": {},
   "outputs": [],
   "source": [
    "import requests\n",
    "import pandas as pd\n",
    "import time"
   ]
  },
  {
   "cell_type": "code",
   "execution_count": 3,
   "id": "9d8e4ee6",
   "metadata": {},
   "outputs": [],
   "source": [
    "#Pulling our first subreddit,Fantasy \n",
    "#Using a while loop, I will pull as much data as I can and store it in a data frame."
   ]
  },
  {
   "cell_type": "code",
   "execution_count": 77,
   "id": "2d997cce",
   "metadata": {},
   "outputs": [],
   "source": [
    "url = ' https://api.pushshift.io/reddit/search/submission'\n",
    "params = {\n",
    "    \n",
    "    'subreddit': 'Fantasy',\n",
    "    'size':100\n",
    "    \n",
    "    }\n",
    "count = 1\n",
    "df_fan = pd.DataFrame()\n",
    "while count <=200:\n",
    "   \n",
    "   \n",
    "    res_fan = requests.get(url,params)\n",
    "    \n",
    "    posts_fan = res_fan.json()['data']\n",
    "    fan_df = pd.DataFrame(posts_fan)\n",
    "    df_fan = df_fan.append(fan_df)\n",
    "    time.sleep(1)\n",
    "    \n",
    "    df_fan = df_fan[['subreddit','title','selftext','created_utc']]\n",
    "    df_fan_drop = df_fan[(df_fan['selftext']=='[removed]') | (df_fan['selftext']=='') | (df_fan['selftext']=='[deleted]')]\n",
    "    df_fan.drop(df_fan_drop.index,inplace = True)\n",
    "    df_fan.reset_index(drop = True, inplace = True)\n",
    "    \n",
    "    try:\n",
    "            params.update({'before':posts_fan[-1]['created_utc']})\n",
    "    except:\n",
    "            break\n",
    "  \n",
    "    count+=1\n"
   ]
  },
  {
   "cell_type": "code",
   "execution_count": 78,
   "id": "aa195531",
   "metadata": {
    "scrolled": true
   },
   "outputs": [
    {
     "data": {
      "text/plain": [
       "(10542, 4)"
      ]
     },
     "execution_count": 78,
     "metadata": {},
     "output_type": "execute_result"
    }
   ],
   "source": [
    "df_fan.shape"
   ]
  },
  {
   "cell_type": "code",
   "execution_count": 79,
   "id": "620df76b",
   "metadata": {},
   "outputs": [
    {
     "data": {
      "text/plain": [
       "3"
      ]
     },
     "execution_count": 79,
     "metadata": {},
     "output_type": "execute_result"
    }
   ],
   "source": [
    "df_fan.duplicated().sum()"
   ]
  },
  {
   "cell_type": "code",
   "execution_count": 73,
   "id": "500471c5",
   "metadata": {},
   "outputs": [
    {
     "data": {
      "text/html": [
       "<div>\n",
       "<style scoped>\n",
       "    .dataframe tbody tr th:only-of-type {\n",
       "        vertical-align: middle;\n",
       "    }\n",
       "\n",
       "    .dataframe tbody tr th {\n",
       "        vertical-align: top;\n",
       "    }\n",
       "\n",
       "    .dataframe thead th {\n",
       "        text-align: right;\n",
       "    }\n",
       "</style>\n",
       "<table border=\"1\" class=\"dataframe\">\n",
       "  <thead>\n",
       "    <tr style=\"text-align: right;\">\n",
       "      <th></th>\n",
       "      <th>subreddit</th>\n",
       "      <th>title</th>\n",
       "      <th>selftext</th>\n",
       "      <th>created_utc</th>\n",
       "    </tr>\n",
       "  </thead>\n",
       "  <tbody>\n",
       "    <tr>\n",
       "      <th>0</th>\n",
       "      <td>Fantasy</td>\n",
       "      <td>Non-contemporary Fantasy series with magic, a ...</td>\n",
       "      <td>I really don't like modern settings and modern...</td>\n",
       "      <td>1635898747</td>\n",
       "    </tr>\n",
       "    <tr>\n",
       "      <th>1</th>\n",
       "      <td>Fantasy</td>\n",
       "      <td>Does anybody know how witches and wizards comm...</td>\n",
       "      <td>The only ones I can think of are the Witch’s G...</td>\n",
       "      <td>1635878702</td>\n",
       "    </tr>\n",
       "    <tr>\n",
       "      <th>2</th>\n",
       "      <td>Fantasy</td>\n",
       "      <td>SPFBO Semi-Finalist RINGLANDER THE PATH AND TH...</td>\n",
       "      <td>tldr; My debut fantasy is currently free until...</td>\n",
       "      <td>1635873379</td>\n",
       "    </tr>\n",
       "    <tr>\n",
       "      <th>3</th>\n",
       "      <td>Fantasy</td>\n",
       "      <td>Romance in Wheel of Time is so Stupid</td>\n",
       "      <td>That's it. I'm nearly done with book 5 and I'm...</td>\n",
       "      <td>1635867127</td>\n",
       "    </tr>\n",
       "    <tr>\n",
       "      <th>4</th>\n",
       "      <td>Fantasy</td>\n",
       "      <td>Terry Pratchett</td>\n",
       "      <td>There are a thousand things I love about Terry...</td>\n",
       "      <td>1635866863</td>\n",
       "    </tr>\n",
       "  </tbody>\n",
       "</table>\n",
       "</div>"
      ],
      "text/plain": [
       "  subreddit                                              title  \\\n",
       "0   Fantasy  Non-contemporary Fantasy series with magic, a ...   \n",
       "1   Fantasy  Does anybody know how witches and wizards comm...   \n",
       "2   Fantasy  SPFBO Semi-Finalist RINGLANDER THE PATH AND TH...   \n",
       "3   Fantasy              Romance in Wheel of Time is so Stupid   \n",
       "4   Fantasy                                    Terry Pratchett   \n",
       "\n",
       "                                            selftext  created_utc  \n",
       "0  I really don't like modern settings and modern...   1635898747  \n",
       "1  The only ones I can think of are the Witch’s G...   1635878702  \n",
       "2  tldr; My debut fantasy is currently free until...   1635873379  \n",
       "3  That's it. I'm nearly done with book 5 and I'm...   1635867127  \n",
       "4  There are a thousand things I love about Terry...   1635866863  "
      ]
     },
     "execution_count": 73,
     "metadata": {},
     "output_type": "execute_result"
    }
   ],
   "source": [
    "df_fan.head()"
   ]
  },
  {
   "cell_type": "code",
   "execution_count": 30,
   "id": "d183b154",
   "metadata": {},
   "outputs": [],
   "source": [
    "#Now Looking at the posts for Sci-Fi"
   ]
  },
  {
   "cell_type": "code",
   "execution_count": 152,
   "id": "47391e64",
   "metadata": {},
   "outputs": [],
   "source": [
    "url_sf = ' https://api.pushshift.io/reddit/search/submission'\n",
    "count = 1\n",
    "df_sf = pd.DataFrame()\n",
    "params_sf = {\n",
    "    \n",
    "    'subreddit': 'AskScienceFiction',\n",
    "    'size':100,\n",
    "    \n",
    "\n",
    "    }\n",
    "while count <=500:\n",
    "    \n",
    "   \n",
    "    res_sf = requests.get(url_sf,params_sf)\n",
    "    posts_sf = res_sf.json()['data']\n",
    "    sf_df = pd.DataFrame(posts_sf)\n",
    "    df_sf = df_sf.append(sf_df)\n",
    "    time.sleep(1)\n",
    "    \n",
    "    df_sf = df_sf[['subreddit','title','selftext','created_utc']]\n",
    "    df_sf_drop = df_sf[(df_sf['selftext']=='[removed]') | (df_sf['selftext']=='') | (df_sf['selftext']=='[deleted]')]\n",
    "    df_sf.drop(df_sf_drop.index,inplace = True)\n",
    "    df_sf.reset_index(drop = True, inplace = True)\n",
    "    \n",
    "    try:\n",
    "            params_sf.update({'before':posts_sf[-1]['created_utc']})\n",
    "    except:\n",
    "            break\n",
    "    count+=1\n"
   ]
  },
  {
   "cell_type": "code",
   "execution_count": 153,
   "id": "be5fba46",
   "metadata": {},
   "outputs": [
    {
     "data": {
      "text/plain": [
       "(10533, 4)"
      ]
     },
     "execution_count": 153,
     "metadata": {},
     "output_type": "execute_result"
    }
   ],
   "source": [
    "df_sf.shape"
   ]
  },
  {
   "cell_type": "code",
   "execution_count": 154,
   "id": "5dc262a0",
   "metadata": {},
   "outputs": [
    {
     "data": {
      "text/plain": [
       "2"
      ]
     },
     "execution_count": 154,
     "metadata": {},
     "output_type": "execute_result"
    }
   ],
   "source": [
    "df_sf.duplicated().sum()"
   ]
  },
  {
   "cell_type": "code",
   "execution_count": 155,
   "id": "da670a81",
   "metadata": {},
   "outputs": [],
   "source": [
    "df = pd.concat([df_fan,df_sf])"
   ]
  },
  {
   "cell_type": "code",
   "execution_count": 156,
   "id": "857cb622",
   "metadata": {},
   "outputs": [],
   "source": [
    "df.reset_index(drop = True,inplace = True)"
   ]
  },
  {
   "cell_type": "code",
   "execution_count": 160,
   "id": "4f28bf24",
   "metadata": {
    "scrolled": true
   },
   "outputs": [
    {
     "data": {
      "text/html": [
       "<div>\n",
       "<style scoped>\n",
       "    .dataframe tbody tr th:only-of-type {\n",
       "        vertical-align: middle;\n",
       "    }\n",
       "\n",
       "    .dataframe tbody tr th {\n",
       "        vertical-align: top;\n",
       "    }\n",
       "\n",
       "    .dataframe thead th {\n",
       "        text-align: right;\n",
       "    }\n",
       "</style>\n",
       "<table border=\"1\" class=\"dataframe\">\n",
       "  <thead>\n",
       "    <tr style=\"text-align: right;\">\n",
       "      <th></th>\n",
       "      <th>subreddit</th>\n",
       "      <th>title</th>\n",
       "      <th>selftext</th>\n",
       "      <th>created_utc</th>\n",
       "    </tr>\n",
       "  </thead>\n",
       "  <tbody>\n",
       "    <tr>\n",
       "      <th>0</th>\n",
       "      <td>Fantasy</td>\n",
       "      <td>Now that I think about it, do fantasy adventur...</td>\n",
       "      <td>They fight for pay after all, usually, pay and...</td>\n",
       "      <td>1627610371</td>\n",
       "    </tr>\n",
       "    <tr>\n",
       "      <th>1</th>\n",
       "      <td>Fantasy</td>\n",
       "      <td>Any recommendations for fantasy books about Pr...</td>\n",
       "      <td>Thanks in advance.</td>\n",
       "      <td>1627596647</td>\n",
       "    </tr>\n",
       "    <tr>\n",
       "      <th>2</th>\n",
       "      <td>Fantasy</td>\n",
       "      <td>/r/Fantasy Daily Recommendation Requests and S...</td>\n",
       "      <td>This thread is to be used for recommendation...</td>\n",
       "      <td>1627560014</td>\n",
       "    </tr>\n",
       "    <tr>\n",
       "      <th>3</th>\n",
       "      <td>Fantasy</td>\n",
       "      <td>David Gemmell died 15 years ago.</td>\n",
       "      <td>Today's the 15th anniversary of David Gemmell'...</td>\n",
       "      <td>1627475507</td>\n",
       "    </tr>\n",
       "    <tr>\n",
       "      <th>4</th>\n",
       "      <td>Fantasy</td>\n",
       "      <td>Who exactly are “the men of The Tusk?”</td>\n",
       "      <td>Hey guys so I’ve been reading The Darkness tha...</td>\n",
       "      <td>1627418047</td>\n",
       "    </tr>\n",
       "    <tr>\n",
       "      <th>...</th>\n",
       "      <td>...</td>\n",
       "      <td>...</td>\n",
       "      <td>...</td>\n",
       "      <td>...</td>\n",
       "    </tr>\n",
       "    <tr>\n",
       "      <th>21070</th>\n",
       "      <td>AskScienceFiction</td>\n",
       "      <td>[Marvel/DC] In a world full of reality breakin...</td>\n",
       "      <td>You have mind reading, mind control, illusion ...</td>\n",
       "      <td>1543003644</td>\n",
       "    </tr>\n",
       "    <tr>\n",
       "      <th>21071</th>\n",
       "      <td>AskScienceFiction</td>\n",
       "      <td>[Fantasy/Dungeons] I am new mage who cast ligh...</td>\n",
       "      <td>Im a recently graduated mage from the academy ...</td>\n",
       "      <td>1543001010</td>\n",
       "    </tr>\n",
       "    <tr>\n",
       "      <th>21072</th>\n",
       "      <td>AskScienceFiction</td>\n",
       "      <td>[harrypotter] can you perform the Killing curs...</td>\n",
       "      <td>I know that some magical cultures don’t use wa...</td>\n",
       "      <td>1542994225</td>\n",
       "    </tr>\n",
       "    <tr>\n",
       "      <th>21073</th>\n",
       "      <td>AskScienceFiction</td>\n",
       "      <td>[General] If you send something or someone fro...</td>\n",
       "      <td>Assuming you can actually go to such a univers...</td>\n",
       "      <td>1542993250</td>\n",
       "    </tr>\n",
       "    <tr>\n",
       "      <th>21074</th>\n",
       "      <td>AskScienceFiction</td>\n",
       "      <td>[Harry Potter] What would happen if a muggle b...</td>\n",
       "      <td>In the case of Harry, he gained some extra abi...</td>\n",
       "      <td>1542985430</td>\n",
       "    </tr>\n",
       "  </tbody>\n",
       "</table>\n",
       "<p>21075 rows × 4 columns</p>\n",
       "</div>"
      ],
      "text/plain": [
       "               subreddit                                              title  \\\n",
       "0                Fantasy  Now that I think about it, do fantasy adventur...   \n",
       "1                Fantasy  Any recommendations for fantasy books about Pr...   \n",
       "2                Fantasy  /r/Fantasy Daily Recommendation Requests and S...   \n",
       "3                Fantasy                   David Gemmell died 15 years ago.   \n",
       "4                Fantasy             Who exactly are “the men of The Tusk?”   \n",
       "...                  ...                                                ...   \n",
       "21070  AskScienceFiction  [Marvel/DC] In a world full of reality breakin...   \n",
       "21071  AskScienceFiction  [Fantasy/Dungeons] I am new mage who cast ligh...   \n",
       "21072  AskScienceFiction  [harrypotter] can you perform the Killing curs...   \n",
       "21073  AskScienceFiction  [General] If you send something or someone fro...   \n",
       "21074  AskScienceFiction  [Harry Potter] What would happen if a muggle b...   \n",
       "\n",
       "                                                selftext  created_utc  \n",
       "0      They fight for pay after all, usually, pay and...   1627610371  \n",
       "1                                     Thanks in advance.   1627596647  \n",
       "2        This thread is to be used for recommendation...   1627560014  \n",
       "3      Today's the 15th anniversary of David Gemmell'...   1627475507  \n",
       "4      Hey guys so I’ve been reading The Darkness tha...   1627418047  \n",
       "...                                                  ...          ...  \n",
       "21070  You have mind reading, mind control, illusion ...   1543003644  \n",
       "21071  Im a recently graduated mage from the academy ...   1543001010  \n",
       "21072  I know that some magical cultures don’t use wa...   1542994225  \n",
       "21073  Assuming you can actually go to such a univers...   1542993250  \n",
       "21074  In the case of Harry, he gained some extra abi...   1542985430  \n",
       "\n",
       "[21075 rows x 4 columns]"
      ]
     },
     "execution_count": 160,
     "metadata": {},
     "output_type": "execute_result"
    }
   ],
   "source": [
    "df"
   ]
  },
  {
   "cell_type": "code",
   "execution_count": 161,
   "id": "eb65472d",
   "metadata": {},
   "outputs": [],
   "source": [
    "df.to_csv('./scifi and fantasy subreddits')"
   ]
  }
 ],
 "metadata": {
  "kernelspec": {
   "display_name": "Python 3",
   "language": "python",
   "name": "python3"
  },
  "language_info": {
   "codemirror_mode": {
    "name": "ipython",
    "version": 3
   },
   "file_extension": ".py",
   "mimetype": "text/x-python",
   "name": "python",
   "nbconvert_exporter": "python",
   "pygments_lexer": "ipython3",
   "version": "3.8.8"
  }
 },
 "nbformat": 4,
 "nbformat_minor": 5
}
